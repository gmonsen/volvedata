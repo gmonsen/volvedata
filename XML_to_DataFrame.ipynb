{
 "cells": [
  {
   "cell_type": "markdown",
   "metadata": {
    "colab_type": "text",
    "id": "z8O8o8_FiAOp"
   },
   "source": [
    "# Import data"
   ]
  },
  {
   "cell_type": "markdown",
   "metadata": {
    "colab_type": "text",
    "id": "DtBhwuEjipWZ"
   },
   "source": [
    "Importing and parsing the XML-file "
   ]
  },
  {
   "cell_type": "code",
   "execution_count": 112,
   "metadata": {
    "colab": {},
    "colab_type": "code",
    "id": "7ilmF24KlAQO"
   },
   "outputs": [],
   "source": [
    "# Importing packages\n",
    "import xml.etree.ElementTree\n",
    "\n",
    "#Parsing XML file and getting root\n",
    "XML_parsed = xml.etree.ElementTree.parse('00019.xml')\n",
    "root=XML_parsed.getroot()"
   ]
  },
  {
   "cell_type": "code",
   "execution_count": 113,
   "metadata": {
    "colab": {
     "base_uri": "https://localhost:8080/",
     "height": 54
    },
    "colab_type": "code",
    "executionInfo": {
     "elapsed": 468,
     "status": "ok",
     "timestamp": 1545144082678,
     "user": {
      "displayName": "Gisle Monsen",
      "photoUrl": "https://lh4.googleusercontent.com/-WpOCxHcqaTw/AAAAAAAAAAI/AAAAAAAAADs/uDcpwv2QNoY/s64/photo.jpg",
      "userId": "15997456460156348291"
     },
     "user_tz": -60
    },
    "id": "KokcaKLxnpKD",
    "outputId": "bb0ded24-bd72-437f-9dad-1199ce476e79"
   },
   "outputs": [
    {
     "data": {
      "text/plain": [
       "'TIME,SRVTVD,GS_SPM1,GS_TV11,SRV_HY,HKLD30s,UTSTAT,SWOB30s,GS_TV03,SPPA,ETSL,AJAM_MWD,ATMP_RT,PMIN_TM_RT,HKLD,GS_G_C1,GS_TVCA,DNI_MP,BPOS,GS_DVER,HKLN,GS_TV06,GS_TV05,SGX,GS_SWOB,PMAX_TM_RT,GS_DRTV,CRS_CNAZI,DBTV,CUREDT_RT,GS_G_C2,STK2,SHK2_RT,APRS_RT,TTONB,GS_TV01,SHX,GS_ACTC,SGZ,PMIN_RT,SRVEW,INCL_CONT_RT,SPM1,GS_TV13,BHFG,BVEL,TFLO,TOTAL_CORR,GS_G_NC5,MSP4,PESD_TM_RT,TOJ,ACTC,CPOF,RSUX,HKLX,STK1,EDRT,GS_DCHM,GS_TV04,ECD_MW_IN,TEMP_DNI_RT,GS_TV08,NRPM_RT,THKD,PASS_NAME,TOFF,CRS4,GS_DMEA,SRV_HX,SRVAZI,GS_G_NC4,TEFNEG,A40H_UNC_RT,ANGLX,SGY,SDEP_CONT_RT,GS_CFIA,GS_DBTM,GS_DRTM,TCHR,HKLI,ESD_RT,SRV_GX,GS_CHKP,SHY,GS_HKLD,RHX,MBOT,FVOC,SHKTOT_RT,GS_MTOA,ESD_MAX_RT,ROP,A40H_COND_RT,STWT,PMPT,GS_SPM2,P40H_COND_RT,RGX_RT,SRVNS,GS_BPOS,PMAX_RT,A28H_COND_RT,STUCK_RT,DCHR,DNISTAT,CRPM_RT,DBTM,GRID_CORR,STK4,SRV_HZ,ROP5,CRS1,ARC_GR_UNC_RT,GS_TV10,MAG_DEC,QROP,TOFB,SPM3,AZIM_CONT_RT,TVDE,OSTM,TSTK,SSAMP,GS_SPM3,ESD_MIN_RT,RSDX,SRV_GZ,GS_TV02,BITRUN,Stick_RT,PESD_RT,ROP30s,P28H_COND_RT,CRS_CNINC,GS_TTV1,SMOD,ARC_GR_RT,TRPM_RT,STWD_RT,CRS5,GS_TV07,P28H_UNC_RT,RHX_RT,RTSTAT,SRATIO,ANGXCRS,SHK3TM_RT,SRVTYPE,TFDES,HKLO,TFLO30s,GS_ROP,TF_CORR,SPM2,TQA,DMEA,RPM30s,GS_TQA,GS_RPM,GS_GASA,GS_G_IC5,ECD_ARC_RT,GS_TV09,SHKRSK_RT,GS_TFLO,DRPM30s,GS_TV12,BONB,VIBLAT_RT,RETI,SHKRATE_RT,SWOB,DRPM,SHKPK_RT,GS_TDH,TF,GS_MWTI,VIBX_RT,STK3,GS_G_C3,BACC,GS_TV14,STIS,GS_TVA,TTV2,SRVDEPTH,A28H_UNC_RT,MWIN,TSPM,SRV_GY,DCHV,SRVINC,SHZ,RTMODE,P40H_UNC_RT,DEPT,GS_SPPA,RPM,STKSLP,BP_CORR_P,SHKLV,GS_MDOA,SSFRQ,SPM4,RGX,GTF_RT,GS_G_IC4'"
      ]
     },
     "execution_count": 113,
     "metadata": {},
     "output_type": "execute_result"
    }
   ],
   "source": [
    "#Example of how to get the values from a tag. Below we get the values from the <mnemonicList> tag\n",
    "root.find(\".//{http://www.witsml.org/schemas/1series}mnemonicList\").text"
   ]
  },
  {
   "cell_type": "markdown",
   "metadata": {
    "colab_type": "text",
    "id": "oe65kqUBlGe5"
   },
   "source": [
    "Pupulating a dataframe with elements from the parsed XML file"
   ]
  },
  {
   "cell_type": "code",
   "execution_count": 114,
   "metadata": {
    "colab": {
     "base_uri": "https://localhost:8080/",
     "height": 70
    },
    "colab_type": "code",
    "executionInfo": {
     "elapsed": 3289,
     "status": "ok",
     "timestamp": 1545144330246,
     "user": {
      "displayName": "Gisle Monsen",
      "photoUrl": "https://lh4.googleusercontent.com/-WpOCxHcqaTw/AAAAAAAAAAI/AAAAAAAAADs/uDcpwv2QNoY/s64/photo.jpg",
      "userId": "15997456460156348291"
     },
     "user_tz": -60
    },
    "id": "tPmAHhNUr5us",
    "outputId": "c6a3855d-29d6-4be9-cee7-d972ce071590"
   },
   "outputs": [
    {
     "name": "stderr",
     "output_type": "stream",
     "text": [
      "C:\\appl\\Anaconda3\\lib\\site-packages\\pandas\\core\\internals.py:3462: FutureWarning: Passing in 'datetime64' dtype with no frequency is deprecated and will raise in a future version. Please pass in 'datetime64[ns]' instead.\n",
      "  return self.apply('astype', dtype=dtype, **kwargs)\n"
     ]
    }
   ],
   "source": [
    "# Importing packages\n",
    "import numpy as np\n",
    "import pandas as pd\n",
    "from datetime import datetime\n",
    "\n",
    "#Fetching the elements from the MnemonicList tag (log short-names) into a list\n",
    "mnemonicList=root.find(\".//{http://www.witsml.org/schemas/1series}mnemonicList\").text\n",
    "mnemonicList=mnemonicList.split(\",\")\n",
    "\n",
    "#Fetching the elements from the UnitList tag (unirts for the data) into a list\n",
    "unitList=root.find(\".//{http://www.witsml.org/schemas/1series}unitList\").text\n",
    "unitList.split(\",\")\n",
    "\n",
    "#Fetching the elements from the Data tag into a list\n",
    "data=[]\n",
    "for m in root.findall(\".//{http://www.witsml.org/schemas/1series}data\"):\n",
    "    string=m.text\n",
    "    data.append(string.split(\",\"))\n",
    "    \n",
    "#Converting list of data elements to an numpy array (of strings)\n",
    "log_data_array=np.asarray(data)\n",
    "\n",
    "#Converting numpy array to a DataFrame with the element from MnemonicList as column names\n",
    "df_log=pd.DataFrame(log_data_array, columns=mnemonicList)\n",
    "\n",
    "#Replacing empty string elements to NaN\n",
    "df_log=df_log.replace('', np.nan)\n",
    "\n",
    "#All the numbers in the DataFrame are stored as strings. These elements should be numbers, with exception of the PASS_NAME (comments) and TIME columns\n",
    "#Converting all elements to float64, except the PASS_NAME column\n",
    "for key in df_log.keys():\n",
    "    if key=='PASS_NAME':\n",
    "        df_log[key]=df_log[key].astype('object')\n",
    "    else:\n",
    "      if key=='TIME':\n",
    "        df_log[key]=df_log[key].astype('datetime64')\n",
    "      else:\n",
    "        try:\n",
    "            df_log[key]=df_log[key].astype('float64')\n",
    "        except:\n",
    "            df_log.drop(key, axis=1) #Included try-except to avoid errors. Just dropping columns that won't convert\n",
    "\n",
    "#Setting the time column as index\n",
    "df_log=df_log.set_index('TIME')"
   ]
  },
  {
   "cell_type": "markdown",
   "metadata": {
    "colab_type": "text",
    "id": "_d7BsM1Qkdpy"
   },
   "source": [
    "The relevant time series data should now be populated in the DataFrame df_log"
   ]
  },
  {
   "cell_type": "code",
   "execution_count": 115,
   "metadata": {
    "colab": {
     "base_uri": "https://localhost:8080/",
     "height": 338
    },
    "colab_type": "code",
    "executionInfo": {
     "elapsed": 570,
     "status": "ok",
     "timestamp": 1545144354060,
     "user": {
      "displayName": "Gisle Monsen",
      "photoUrl": "https://lh4.googleusercontent.com/-WpOCxHcqaTw/AAAAAAAAAAI/AAAAAAAAADs/uDcpwv2QNoY/s64/photo.jpg",
      "userId": "15997456460156348291"
     },
     "user_tz": -60
    },
    "id": "l1ZwfLaGszZv",
    "outputId": "ba0a68bc-d2c7-484e-c167-2e8a3027c107"
   },
   "outputs": [
    {
     "data": {
      "text/html": [
       "<div>\n",
       "<style scoped>\n",
       "    .dataframe tbody tr th:only-of-type {\n",
       "        vertical-align: middle;\n",
       "    }\n",
       "\n",
       "    .dataframe tbody tr th {\n",
       "        vertical-align: top;\n",
       "    }\n",
       "\n",
       "    .dataframe thead th {\n",
       "        text-align: right;\n",
       "    }\n",
       "</style>\n",
       "<table border=\"1\" class=\"dataframe\">\n",
       "  <thead>\n",
       "    <tr style=\"text-align: right;\">\n",
       "      <th></th>\n",
       "      <th>SRVTVD</th>\n",
       "      <th>GS_SPM1</th>\n",
       "      <th>GS_TV11</th>\n",
       "      <th>SRV_HY</th>\n",
       "      <th>HKLD30s</th>\n",
       "      <th>UTSTAT</th>\n",
       "      <th>SWOB30s</th>\n",
       "      <th>GS_TV03</th>\n",
       "      <th>SPPA</th>\n",
       "      <th>ETSL</th>\n",
       "      <th>...</th>\n",
       "      <th>RPM</th>\n",
       "      <th>STKSLP</th>\n",
       "      <th>BP_CORR_P</th>\n",
       "      <th>SHKLV</th>\n",
       "      <th>GS_MDOA</th>\n",
       "      <th>SSFRQ</th>\n",
       "      <th>SPM4</th>\n",
       "      <th>RGX</th>\n",
       "      <th>GTF_RT</th>\n",
       "      <th>GS_G_IC4</th>\n",
       "    </tr>\n",
       "    <tr>\n",
       "      <th>TIME</th>\n",
       "      <th></th>\n",
       "      <th></th>\n",
       "      <th></th>\n",
       "      <th></th>\n",
       "      <th></th>\n",
       "      <th></th>\n",
       "      <th></th>\n",
       "      <th></th>\n",
       "      <th></th>\n",
       "      <th></th>\n",
       "      <th></th>\n",
       "      <th></th>\n",
       "      <th></th>\n",
       "      <th></th>\n",
       "      <th></th>\n",
       "      <th></th>\n",
       "      <th></th>\n",
       "      <th></th>\n",
       "      <th></th>\n",
       "      <th></th>\n",
       "      <th></th>\n",
       "    </tr>\n",
       "  </thead>\n",
       "  <tbody>\n",
       "    <tr>\n",
       "      <th>2009-01-22 00:01:26</th>\n",
       "      <td>NaN</td>\n",
       "      <td>78.0</td>\n",
       "      <td>2.06</td>\n",
       "      <td>NaN</td>\n",
       "      <td>164.613661</td>\n",
       "      <td>0.0</td>\n",
       "      <td>2.575951</td>\n",
       "      <td>53.849998</td>\n",
       "      <td>19797.178617</td>\n",
       "      <td>606.99</td>\n",
       "      <td>...</td>\n",
       "      <td>180.0</td>\n",
       "      <td>NaN</td>\n",
       "      <td>0.0</td>\n",
       "      <td>NaN</td>\n",
       "      <td>1.24</td>\n",
       "      <td>NaN</td>\n",
       "      <td>0.0</td>\n",
       "      <td>NaN</td>\n",
       "      <td>NaN</td>\n",
       "      <td>NaN</td>\n",
       "    </tr>\n",
       "    <tr>\n",
       "      <th>2009-01-22 00:01:29</th>\n",
       "      <td>NaN</td>\n",
       "      <td>NaN</td>\n",
       "      <td>NaN</td>\n",
       "      <td>NaN</td>\n",
       "      <td>164.589620</td>\n",
       "      <td>0.0</td>\n",
       "      <td>2.599991</td>\n",
       "      <td>NaN</td>\n",
       "      <td>19672.693774</td>\n",
       "      <td>606.99</td>\n",
       "      <td>...</td>\n",
       "      <td>179.0</td>\n",
       "      <td>NaN</td>\n",
       "      <td>0.0</td>\n",
       "      <td>NaN</td>\n",
       "      <td>NaN</td>\n",
       "      <td>NaN</td>\n",
       "      <td>0.0</td>\n",
       "      <td>NaN</td>\n",
       "      <td>NaN</td>\n",
       "      <td>NaN</td>\n",
       "    </tr>\n",
       "    <tr>\n",
       "      <th>2009-01-22 00:01:30</th>\n",
       "      <td>NaN</td>\n",
       "      <td>78.0</td>\n",
       "      <td>2.06</td>\n",
       "      <td>NaN</td>\n",
       "      <td>NaN</td>\n",
       "      <td>NaN</td>\n",
       "      <td>NaN</td>\n",
       "      <td>53.860001</td>\n",
       "      <td>NaN</td>\n",
       "      <td>NaN</td>\n",
       "      <td>...</td>\n",
       "      <td>NaN</td>\n",
       "      <td>NaN</td>\n",
       "      <td>NaN</td>\n",
       "      <td>NaN</td>\n",
       "      <td>1.24</td>\n",
       "      <td>NaN</td>\n",
       "      <td>NaN</td>\n",
       "      <td>NaN</td>\n",
       "      <td>NaN</td>\n",
       "      <td>NaN</td>\n",
       "    </tr>\n",
       "    <tr>\n",
       "      <th>2009-01-22 00:01:32</th>\n",
       "      <td>NaN</td>\n",
       "      <td>NaN</td>\n",
       "      <td>NaN</td>\n",
       "      <td>NaN</td>\n",
       "      <td>164.549704</td>\n",
       "      <td>0.0</td>\n",
       "      <td>2.639908</td>\n",
       "      <td>NaN</td>\n",
       "      <td>19672.693774</td>\n",
       "      <td>606.99</td>\n",
       "      <td>...</td>\n",
       "      <td>179.0</td>\n",
       "      <td>NaN</td>\n",
       "      <td>0.0</td>\n",
       "      <td>NaN</td>\n",
       "      <td>NaN</td>\n",
       "      <td>NaN</td>\n",
       "      <td>0.0</td>\n",
       "      <td>NaN</td>\n",
       "      <td>NaN</td>\n",
       "      <td>NaN</td>\n",
       "    </tr>\n",
       "    <tr>\n",
       "      <th>2009-01-22 00:01:35</th>\n",
       "      <td>NaN</td>\n",
       "      <td>78.0</td>\n",
       "      <td>2.06</td>\n",
       "      <td>NaN</td>\n",
       "      <td>164.506159</td>\n",
       "      <td>0.0</td>\n",
       "      <td>2.683452</td>\n",
       "      <td>53.849998</td>\n",
       "      <td>19672.693774</td>\n",
       "      <td>606.99</td>\n",
       "      <td>...</td>\n",
       "      <td>179.0</td>\n",
       "      <td>NaN</td>\n",
       "      <td>0.0</td>\n",
       "      <td>NaN</td>\n",
       "      <td>1.24</td>\n",
       "      <td>NaN</td>\n",
       "      <td>0.0</td>\n",
       "      <td>NaN</td>\n",
       "      <td>NaN</td>\n",
       "      <td>NaN</td>\n",
       "    </tr>\n",
       "  </tbody>\n",
       "</table>\n",
       "<p>5 rows × 208 columns</p>\n",
       "</div>"
      ],
      "text/plain": [
       "                     SRVTVD  GS_SPM1  GS_TV11  SRV_HY     HKLD30s  UTSTAT  \\\n",
       "TIME                                                                        \n",
       "2009-01-22 00:01:26     NaN     78.0     2.06     NaN  164.613661     0.0   \n",
       "2009-01-22 00:01:29     NaN      NaN      NaN     NaN  164.589620     0.0   \n",
       "2009-01-22 00:01:30     NaN     78.0     2.06     NaN         NaN     NaN   \n",
       "2009-01-22 00:01:32     NaN      NaN      NaN     NaN  164.549704     0.0   \n",
       "2009-01-22 00:01:35     NaN     78.0     2.06     NaN  164.506159     0.0   \n",
       "\n",
       "                      SWOB30s    GS_TV03          SPPA    ETSL    ...     \\\n",
       "TIME                                                              ...      \n",
       "2009-01-22 00:01:26  2.575951  53.849998  19797.178617  606.99    ...      \n",
       "2009-01-22 00:01:29  2.599991        NaN  19672.693774  606.99    ...      \n",
       "2009-01-22 00:01:30       NaN  53.860001           NaN     NaN    ...      \n",
       "2009-01-22 00:01:32  2.639908        NaN  19672.693774  606.99    ...      \n",
       "2009-01-22 00:01:35  2.683452  53.849998  19672.693774  606.99    ...      \n",
       "\n",
       "                       RPM  STKSLP  BP_CORR_P  SHKLV  GS_MDOA  SSFRQ  SPM4  \\\n",
       "TIME                                                                         \n",
       "2009-01-22 00:01:26  180.0     NaN        0.0    NaN     1.24    NaN   0.0   \n",
       "2009-01-22 00:01:29  179.0     NaN        0.0    NaN      NaN    NaN   0.0   \n",
       "2009-01-22 00:01:30    NaN     NaN        NaN    NaN     1.24    NaN   NaN   \n",
       "2009-01-22 00:01:32  179.0     NaN        0.0    NaN      NaN    NaN   0.0   \n",
       "2009-01-22 00:01:35  179.0     NaN        0.0    NaN     1.24    NaN   0.0   \n",
       "\n",
       "                     RGX  GTF_RT  GS_G_IC4  \n",
       "TIME                                        \n",
       "2009-01-22 00:01:26  NaN     NaN       NaN  \n",
       "2009-01-22 00:01:29  NaN     NaN       NaN  \n",
       "2009-01-22 00:01:30  NaN     NaN       NaN  \n",
       "2009-01-22 00:01:32  NaN     NaN       NaN  \n",
       "2009-01-22 00:01:35  NaN     NaN       NaN  \n",
       "\n",
       "[5 rows x 208 columns]"
      ]
     },
     "execution_count": 115,
     "metadata": {},
     "output_type": "execute_result"
    }
   ],
   "source": [
    "df_log.head()"
   ]
  },
  {
   "cell_type": "markdown",
   "metadata": {
    "colab": {},
    "colab_type": "code",
    "id": "jbTa8OgGvoqy"
   },
   "source": [
    "# Process data"
   ]
  },
  {
   "cell_type": "markdown",
   "metadata": {},
   "source": [
    "### Downsample data"
   ]
  },
  {
   "cell_type": "markdown",
   "metadata": {},
   "source": [
    "- By default the frequency of the data is 2 sec (regardless of sending value or not)\n",
    "- Downsampling data to 30 sec interval, by taking the mean value in the interval"
   ]
  },
  {
   "cell_type": "code",
   "execution_count": 189,
   "metadata": {},
   "outputs": [],
   "source": [
    "df=df_log.resample('0.5min').mean()"
   ]
  },
  {
   "cell_type": "markdown",
   "metadata": {},
   "source": [
    "Use only columns with moe than 100 values"
   ]
  },
  {
   "cell_type": "code",
   "execution_count": 190,
   "metadata": {},
   "outputs": [],
   "source": [
    "df=df[df.columns[df.describe().loc['count',:]>100]]"
   ]
  },
  {
   "cell_type": "markdown",
   "metadata": {},
   "source": [
    "Check columns"
   ]
  },
  {
   "cell_type": "code",
   "execution_count": 191,
   "metadata": {},
   "outputs": [
    {
     "data": {
      "text/plain": [
       "Index(['GS_SPM1', 'GS_TV11', 'HKLD30s', 'UTSTAT', 'SWOB30s', 'GS_TV03', 'SPPA',\n",
       "       'ETSL', 'AJAM_MWD', 'ATMP_RT',\n",
       "       ...\n",
       "       'GS_SPPA', 'RPM', 'STKSLP', 'BP_CORR_P', 'SHKLV', 'GS_MDOA', 'SSFRQ',\n",
       "       'SPM4', 'RGX', 'GS_G_IC4'],\n",
       "      dtype='object', length=166)"
      ]
     },
     "execution_count": 191,
     "metadata": {},
     "output_type": "execute_result"
    }
   ],
   "source": [
    "df.columns"
   ]
  },
  {
   "cell_type": "markdown",
   "metadata": {},
   "source": [
    "Select following columns:\n",
    "- GS_HKLD (hookload, weight of string)\n",
    "- GS_TQA (torque)\n",
    "- GS_MTOA (temprature of returning fluid)\n",
    "- GS_SPPA (Standpipe pressure, pressure sensor fluid in)\n",
    "- GS_TFLO (Flow of fluid in)\n",
    "- GS_DVER (Vertical depth)"
   ]
  },
  {
   "cell_type": "code",
   "execution_count": 192,
   "metadata": {},
   "outputs": [],
   "source": [
    "df=df[['GS_HKLD', 'GS_TQA','GS_MTOA', 'GS_SPPA', 'GS_TFLO', 'GS_DVER']]"
   ]
  },
  {
   "cell_type": "markdown",
   "metadata": {},
   "source": [
    "Drop rows that have NaN-values in all columns. Also dropping first column"
   ]
  },
  {
   "cell_type": "code",
   "execution_count": 193,
   "metadata": {},
   "outputs": [],
   "source": [
    "df=df.dropna(how='all')[1:]"
   ]
  },
  {
   "cell_type": "markdown",
   "metadata": {},
   "source": [
    "Rename columns to more describing names"
   ]
  },
  {
   "cell_type": "code",
   "execution_count": 194,
   "metadata": {},
   "outputs": [],
   "source": [
    "df.columns=['Hookload(Tonne)', 'Torque(kNm)', 'Temp_out(C)', 'Pressure(bar)', 'Flow(lpm)', 'Vertical Depth(m)']"
   ]
  },
  {
   "cell_type": "code",
   "execution_count": 202,
   "metadata": {},
   "outputs": [
    {
     "data": {
      "text/html": [
       "<div>\n",
       "<style scoped>\n",
       "    .dataframe tbody tr th:only-of-type {\n",
       "        vertical-align: middle;\n",
       "    }\n",
       "\n",
       "    .dataframe tbody tr th {\n",
       "        vertical-align: top;\n",
       "    }\n",
       "\n",
       "    .dataframe thead th {\n",
       "        text-align: right;\n",
       "    }\n",
       "</style>\n",
       "<table border=\"1\" class=\"dataframe\">\n",
       "  <thead>\n",
       "    <tr style=\"text-align: right;\">\n",
       "      <th></th>\n",
       "      <th>Hookload(Tonne)</th>\n",
       "      <th>Torque(kNm)</th>\n",
       "      <th>Temp_out(C)</th>\n",
       "      <th>Pressure(bar)</th>\n",
       "      <th>Flow(lpm)</th>\n",
       "      <th>Vertical Depth(m)</th>\n",
       "    </tr>\n",
       "    <tr>\n",
       "      <th>TIME</th>\n",
       "      <th></th>\n",
       "      <th></th>\n",
       "      <th></th>\n",
       "      <th></th>\n",
       "      <th></th>\n",
       "      <th></th>\n",
       "    </tr>\n",
       "  </thead>\n",
       "  <tbody>\n",
       "    <tr>\n",
       "      <th>2009-01-22 00:01:30</th>\n",
       "      <td>171.586189</td>\n",
       "      <td>23.792857</td>\n",
       "      <td>61.570000</td>\n",
       "      <td>19720.428685</td>\n",
       "      <td>3401.354249</td>\n",
       "      <td>2697.882847</td>\n",
       "    </tr>\n",
       "    <tr>\n",
       "      <th>2009-01-22 00:02:00</th>\n",
       "      <td>171.257938</td>\n",
       "      <td>23.851666</td>\n",
       "      <td>61.690001</td>\n",
       "      <td>19750.333405</td>\n",
       "      <td>3400.984986</td>\n",
       "      <td>2698.239990</td>\n",
       "    </tr>\n",
       "    <tr>\n",
       "      <th>2009-01-22 00:02:30</th>\n",
       "      <td>171.310282</td>\n",
       "      <td>23.740000</td>\n",
       "      <td>61.780000</td>\n",
       "      <td>19737.599793</td>\n",
       "      <td>3401.589942</td>\n",
       "      <td>2698.239990</td>\n",
       "    </tr>\n",
       "    <tr>\n",
       "      <th>2009-01-22 00:03:00</th>\n",
       "      <td>171.103283</td>\n",
       "      <td>24.305000</td>\n",
       "      <td>61.719999</td>\n",
       "      <td>19717.499796</td>\n",
       "      <td>3401.426595</td>\n",
       "      <td>2698.239990</td>\n",
       "    </tr>\n",
       "    <tr>\n",
       "      <th>2009-01-22 00:03:30</th>\n",
       "      <td>170.835970</td>\n",
       "      <td>24.242857</td>\n",
       "      <td>61.817144</td>\n",
       "      <td>19747.714670</td>\n",
       "      <td>3401.014265</td>\n",
       "      <td>2698.239990</td>\n",
       "    </tr>\n",
       "  </tbody>\n",
       "</table>\n",
       "</div>"
      ],
      "text/plain": [
       "                     Hookload(Tonne)  Torque(kNm)  Temp_out(C)  Pressure(bar)  \\\n",
       "TIME                                                                            \n",
       "2009-01-22 00:01:30       171.586189    23.792857    61.570000   19720.428685   \n",
       "2009-01-22 00:02:00       171.257938    23.851666    61.690001   19750.333405   \n",
       "2009-01-22 00:02:30       171.310282    23.740000    61.780000   19737.599793   \n",
       "2009-01-22 00:03:00       171.103283    24.305000    61.719999   19717.499796   \n",
       "2009-01-22 00:03:30       170.835970    24.242857    61.817144   19747.714670   \n",
       "\n",
       "                       Flow(lpm)  Vertical Depth(m)  \n",
       "TIME                                                 \n",
       "2009-01-22 00:01:30  3401.354249        2697.882847  \n",
       "2009-01-22 00:02:00  3400.984986        2698.239990  \n",
       "2009-01-22 00:02:30  3401.589942        2698.239990  \n",
       "2009-01-22 00:03:00  3401.426595        2698.239990  \n",
       "2009-01-22 00:03:30  3401.014265        2698.239990  "
      ]
     },
     "execution_count": 202,
     "metadata": {},
     "output_type": "execute_result"
    }
   ],
   "source": [
    "df.head()"
   ]
  },
  {
   "cell_type": "markdown",
   "metadata": {},
   "source": [
    "## The End"
   ]
  },
  {
   "cell_type": "markdown",
   "metadata": {},
   "source": [
    "This is the end of this tutorial."
   ]
  }
 ],
 "metadata": {
  "colab": {
   "collapsed_sections": [],
   "name": "XML_to_DataFrame.ipynb",
   "provenance": [
    {
     "file_id": "1EXBCpCkGmB1a9Grt1RdQcGQR8qyYK55o",
     "timestamp": 1545141987123
    }
   ],
   "version": "0.3.2"
  },
  "kernelspec": {
   "display_name": "Python 3",
   "language": "python",
   "name": "python3"
  },
  "language_info": {
   "codemirror_mode": {
    "name": "ipython",
    "version": 3
   },
   "file_extension": ".py",
   "mimetype": "text/x-python",
   "name": "python",
   "nbconvert_exporter": "python",
   "pygments_lexer": "ipython3",
   "version": "3.6.4"
  }
 },
 "nbformat": 4,
 "nbformat_minor": 1
}
